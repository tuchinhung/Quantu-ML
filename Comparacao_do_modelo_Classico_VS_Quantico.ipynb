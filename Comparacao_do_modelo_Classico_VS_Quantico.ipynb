{
  "nbformat": 4,
  "nbformat_minor": 0,
  "metadata": {
    "colab": {
      "name": "Comparacao do modelo Classico VS Quantico.ipynb",
      "provenance": [],
      "collapsed_sections": [],
      "authorship_tag": "ABX9TyMHmZpAZu6L4cvmro/4aqJB",
      "include_colab_link": true
    },
    "kernelspec": {
      "name": "python3",
      "display_name": "Python 3"
    }
  },
  "cells": [
    {
      "cell_type": "markdown",
      "metadata": {
        "id": "view-in-github",
        "colab_type": "text"
      },
      "source": [
        "<a href=\"https://colab.research.google.com/github/tuchinhung/Quantu-ML/blob/main/Comparacao_do_modelo_Classico_VS_Quantico.ipynb\" target=\"_parent\"><img src=\"https://colab.research.google.com/assets/colab-badge.svg\" alt=\"Open In Colab\"/></a>"
      ]
    },
    {
      "cell_type": "code",
      "metadata": {
        "id": "8CEChRLwGHTm"
      },
      "source": [
        "%%capture \r\n",
        "\r\n",
        "# Comment this out if you don't want to install pennylane from this notebook\r\n",
        "!pip install pennylane\r\n",
        "# Comment this out if you don't want to install torch from this notebook\r\n",
        "!pip install torch\r\n",
        "# Comment this out if you don't want to install matplotlib from this notebook\r\n",
        "!pip install matplotlib"
      ],
      "execution_count": 2,
      "outputs": []
    },
    {
      "cell_type": "markdown",
      "metadata": {
        "id": "u9n5CKJyGXxV"
      },
      "source": [
        "Modelo Classico regressao linear"
      ]
    },
    {
      "cell_type": "code",
      "metadata": {
        "colab": {
          "base_uri": "https://localhost:8080/"
        },
        "id": "TU7F6MLsGWGL",
        "outputId": "7309696d-1b05-4a05-8b4b-35e0eb86d846"
      },
      "source": [
        "import torch\r\n",
        "from torch.autograd import Variable\r\n",
        "np.random.seed(42)\r\n",
        "\r\n",
        "data = torch.tensor([(0., 0.), (0.1, 0.1), (0.2, 0.2)])\r\n",
        "print(data)"
      ],
      "execution_count": 3,
      "outputs": [
        {
          "output_type": "stream",
          "text": [
            "tensor([[0.0000, 0.0000],\n",
            "        [0.1000, 0.1000],\n",
            "        [0.2000, 0.2000]])\n"
          ],
          "name": "stdout"
        }
      ]
    },
    {
      "cell_type": "code",
      "metadata": {
        "id": "TtfaWfiaHUDs"
      },
      "source": [
        "def model(phi, x=None):\r\n",
        "  return x*phi"
      ],
      "execution_count": 4,
      "outputs": []
    },
    {
      "cell_type": "code",
      "metadata": {
        "colab": {
          "base_uri": "https://localhost:8080/"
        },
        "id": "QhkLwHbXKWHh",
        "outputId": "a4fae65b-104c-4a8e-8991-a1dd67b43283"
      },
      "source": [
        "# Função de custo (a-b)^2 Perda de erro quadrático\r\n",
        "def loss(a, b):\r\n",
        "    return torch.abs(a - b)**2\r\n",
        "\r\n",
        "# Perda média\r\n",
        "def average_loss(phi):\r\n",
        "    c = 0\r\n",
        "    for x, y in data:\r\n",
        "        c += loss(model(phi, x=x),  y) # Função de perda de erro quadrático\r\n",
        "    return c\r\n",
        "\r\n",
        "phi_new = Variable(torch.tensor(0.1), requires_grad=True)\r\n",
        "print(phi_new)\r\n",
        "opt = torch.optim.Adam([phi_new], lr=0.02)\r\n",
        "print(opt)"
      ],
      "execution_count": 5,
      "outputs": [
        {
          "output_type": "stream",
          "text": [
            "tensor(0.1000, requires_grad=True)\n",
            "Adam (\n",
            "Parameter Group 0\n",
            "    amsgrad: False\n",
            "    betas: (0.9, 0.999)\n",
            "    eps: 1e-08\n",
            "    lr: 0.02\n",
            "    weight_decay: 0\n",
            ")\n"
          ],
          "name": "stdout"
        }
      ]
    },
    {
      "cell_type": "code",
      "metadata": {
        "colab": {
          "base_uri": "https://localhost:8080/"
        },
        "id": "q_hGygXhLZK9",
        "outputId": "34852ae5-e774-4ed3-b40a-d58a4d170a53"
      },
      "source": [
        "for i in range(10):\r\n",
        "  loss1 = average_loss(phi_new)\r\n",
        "  print(i, loss1.item())\r\n",
        "  loss1.backward()\r\n",
        "  opt.step()"
      ],
      "execution_count": 17,
      "outputs": [
        {
          "output_type": "stream",
          "text": [
            "0 0.5126111421711157\n",
            "1 0.4632816317036419\n",
            "2 0.4120567699877299\n",
            "3 0.36003579372095323\n",
            "4 0.30834206718844237\n",
            "5 0.25809614152959726\n",
            "6 0.21038886312737543\n",
            "7 0.16625304031458862\n",
            "8 0.12663759203437513\n",
            "9 0.0923828137019544\n"
          ],
          "name": "stdout"
        }
      ]
    },
    {
      "cell_type": "markdown",
      "metadata": {
        "id": "aTu8S09bGgy_"
      },
      "source": [
        "Modelo Quantico Circuito"
      ]
    },
    {
      "cell_type": "code",
      "metadata": {
        "colab": {
          "base_uri": "https://localhost:8080/"
        },
        "id": "jlw-ba4qGWmO",
        "outputId": "f1d2444f-dd6a-404c-8b67-4afc49f5d68c"
      },
      "source": [
        "from pennylane import *\r\n",
        "import torch\r\n",
        "from torch.autograd import Variable\r\n",
        "np.random.seed(42)\r\n",
        "\r\n",
        "data1 = [(0., 0.), (0.1, 0.1), (0.2, 0.2)]\r\n",
        "print(data1)"
      ],
      "execution_count": 7,
      "outputs": [
        {
          "output_type": "stream",
          "text": [
            "[(0.0, 0.0), (0.1, 0.1), (0.2, 0.2)]\n"
          ],
          "name": "stdout"
        }
      ]
    },
    {
      "cell_type": "code",
      "metadata": {
        "id": "WXfg_NqhGW0E"
      },
      "source": [
        "# 'default.qubit': um simulador de estado simples de arquiteturas de circuitos quânticos baseadas em qubit.\r\n",
        "# com 2 qubit\r\n",
        "dev = device('default.qubit', wires=2)\r\n",
        "\r\n",
        "@qnode(dev, interface='torch')\r\n",
        "def circuit_model(phi, x=None):\r\n",
        "\r\n",
        "    templates.AngleEmbedding(features=[x], wires=[0])\r\n",
        "    templates.BasicEntanglerLayers(weights=phi, wires=[0, 1])\r\n",
        "    return expval(PauliZ(wires=1)) # Valor de expectativa do observável fornecido.\r\n",
        "    # o circuito a seguir retorna o valor esperado do operador Pauli Z observável no fio 1\r\n"
      ],
      "execution_count": 8,
      "outputs": []
    },
    {
      "cell_type": "code",
      "metadata": {
        "colab": {
          "base_uri": "https://localhost:8080/"
        },
        "id": "J71Nx6hlNTsf",
        "outputId": "e7c70634-365c-414f-a30b-1ffb18412ac4"
      },
      "source": [
        "# Função de custo (a-b)^2 Perda de erro quadrático\r\n",
        "def loss(a, b):\r\n",
        "    return torch.abs(a - b)**2\r\n",
        "\r\n",
        "# Perda média\r\n",
        "def average_loss(phi):\r\n",
        "    c = 0\r\n",
        "    for x, y in data:\r\n",
        "        c += loss(circuit_model(phi, x=x),  y) # Função de perda de erro quadrático\r\n",
        "    return c\r\n",
        "\r\n",
        "phi_new = Variable(torch.tensor([[0.1, 0.2], [-0.5, 0.1]]), requires_grad=True)\r\n",
        "print(phi_new)\r\n",
        "opt = torch.optim.Adam([phi_new], lr=0.02)\r\n",
        "print(opt)"
      ],
      "execution_count": 9,
      "outputs": [
        {
          "output_type": "stream",
          "text": [
            "tensor([[ 0.1000,  0.2000],\n",
            "        [-0.5000,  0.1000]], requires_grad=True)\n",
            "Adam (\n",
            "Parameter Group 0\n",
            "    amsgrad: False\n",
            "    betas: (0.9, 0.999)\n",
            "    eps: 1e-08\n",
            "    lr: 0.02\n",
            "    weight_decay: 0\n",
            ")\n"
          ],
          "name": "stdout"
        }
      ]
    },
    {
      "cell_type": "code",
      "metadata": {
        "colab": {
          "base_uri": "https://localhost:8080/"
        },
        "id": "SB7t09wyN05L",
        "outputId": "12b339d8-0134-4961-e7a4-9f959c865e8e"
      },
      "source": [
        "for i in range(10):\r\n",
        "  loss1 = average_loss(phi_new)\r\n",
        "  print(i, loss1.item())\r\n",
        "  loss1.backward()\r\n",
        "  opt.step()"
      ],
      "execution_count": 21,
      "outputs": [
        {
          "output_type": "stream",
          "text": [
            "0 0.4729897527228859\n",
            "1 0.4283389589112073\n",
            "2 0.3791347178793804\n",
            "3 0.326653431373143\n",
            "4 0.2724367709285855\n",
            "5 0.21829022715544374\n",
            "6 0.16625988531537197\n",
            "7 0.11859690984432532\n",
            "8 0.07770057601894903\n",
            "9 0.04604164153859334\n"
          ],
          "name": "stdout"
        }
      ]
    }
  ]
}