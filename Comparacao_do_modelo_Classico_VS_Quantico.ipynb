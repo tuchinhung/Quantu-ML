{
  "nbformat": 4,
  "nbformat_minor": 0,
  "metadata": {
    "colab": {
      "name": "Comparacao do modelo Classico VS Quantico.ipynb",
      "provenance": [],
      "collapsed_sections": [],
      "authorship_tag": "ABX9TyOea8W4emuWvLZv2iPe1xHI",
      "include_colab_link": true
    },
    "kernelspec": {
      "name": "python3",
      "display_name": "Python 3"
    }
  },
  "cells": [
    {
      "cell_type": "markdown",
      "metadata": {
        "id": "view-in-github",
        "colab_type": "text"
      },
      "source": [
        "<a href=\"https://colab.research.google.com/github/tuchinhung/Quantu-ML/blob/main/Comparacao_do_modelo_Classico_VS_Quantico.ipynb\" target=\"_parent\"><img src=\"https://colab.research.google.com/assets/colab-badge.svg\" alt=\"Open In Colab\"/></a>"
      ]
    },
    {
      "cell_type": "code",
      "metadata": {
        "id": "8CEChRLwGHTm"
      },
      "source": [
        "%%capture \r\n",
        "\r\n",
        "# Comment this out if you don't want to install pennylane from this notebook\r\n",
        "!pip install pennylane\r\n",
        "# Comment this out if you don't want to install torch from this notebook\r\n",
        "!pip install torch\r\n",
        "# Comment this out if you don't want to install matplotlib from this notebook\r\n",
        "!pip install matplotlib"
      ],
      "execution_count": 22,
      "outputs": []
    },
    {
      "cell_type": "markdown",
      "metadata": {
        "id": "u9n5CKJyGXxV"
      },
      "source": [
        "Modelo Classico regressao linear"
      ]
    },
    {
      "cell_type": "code",
      "metadata": {
        "colab": {
          "base_uri": "https://localhost:8080/"
        },
        "id": "TU7F6MLsGWGL",
        "outputId": "d2e5b862-5d0a-44d5-a120-1c6615c878c9"
      },
      "source": [
        "import torch\r\n",
        "from torch.autograd import Variable\r\n",
        "import numpy as np\r\n",
        "\r\n",
        "np.random.seed(42)\r\n",
        "\r\n",
        "data = torch.tensor([(0., 0.), (0.1, 0.1), (0.2, 0.2)])\r\n",
        "print(data)"
      ],
      "execution_count": 24,
      "outputs": [
        {
          "output_type": "stream",
          "text": [
            "tensor([[0.0000, 0.0000],\n",
            "        [0.1000, 0.1000],\n",
            "        [0.2000, 0.2000]])\n"
          ],
          "name": "stdout"
        }
      ]
    },
    {
      "cell_type": "code",
      "metadata": {
        "id": "TtfaWfiaHUDs"
      },
      "source": [
        "def model(phi, x=None):\r\n",
        "  return x*phi"
      ],
      "execution_count": 25,
      "outputs": []
    },
    {
      "cell_type": "code",
      "metadata": {
        "colab": {
          "base_uri": "https://localhost:8080/"
        },
        "id": "QhkLwHbXKWHh",
        "outputId": "fe5be6b9-763b-4eab-81dd-bce76cd70166"
      },
      "source": [
        "# Função de custo (a-b)^2 Perda de erro quadrático\r\n",
        "def loss(a, b):\r\n",
        "    return torch.abs(a - b)**2\r\n",
        "\r\n",
        "# Perda média\r\n",
        "def average_loss(phi):\r\n",
        "    c = 0\r\n",
        "    for x, y in data:\r\n",
        "        c += loss(model(phi, x=x),  y) # Função de perda de erro quadrático\r\n",
        "    return c\r\n",
        "\r\n",
        "phi_new = Variable(torch.tensor(0.1), requires_grad=True)\r\n",
        "print(phi_new)\r\n",
        "opt = torch.optim.Adam([phi_new], lr=0.02)\r\n",
        "print(opt)"
      ],
      "execution_count": 26,
      "outputs": [
        {
          "output_type": "stream",
          "text": [
            "tensor(0.1000, requires_grad=True)\n",
            "Adam (\n",
            "Parameter Group 0\n",
            "    amsgrad: False\n",
            "    betas: (0.9, 0.999)\n",
            "    eps: 1e-08\n",
            "    lr: 0.02\n",
            "    weight_decay: 0\n",
            ")\n"
          ],
          "name": "stdout"
        }
      ]
    },
    {
      "cell_type": "code",
      "metadata": {
        "colab": {
          "base_uri": "https://localhost:8080/"
        },
        "id": "q_hGygXhLZK9",
        "outputId": "560d3c50-0571-4376-f9dc-0c32ed3c070b"
      },
      "source": [
        "for i in range(10):\r\n",
        "  loss1 = average_loss(phi_new)\r\n",
        "  print(i, loss1.item())\r\n",
        "  loss1.backward()\r\n",
        "  opt.step()"
      ],
      "execution_count": 27,
      "outputs": [
        {
          "output_type": "stream",
          "text": [
            "0 0.04050000011920929\n",
            "1 0.03872000053524971\n",
            "2 0.03703787177801132\n",
            "3 0.03540395200252533\n",
            "4 0.03380205109715462\n",
            "5 0.03222564607858658\n",
            "6 0.030672047287225723\n",
            "7 0.029140427708625793\n",
            "8 0.027630960568785667\n",
            "9 0.02614441327750683\n"
          ],
          "name": "stdout"
        }
      ]
    },
    {
      "cell_type": "markdown",
      "metadata": {
        "id": "aTu8S09bGgy_"
      },
      "source": [
        "Modelo Quantico Circuito"
      ]
    },
    {
      "cell_type": "code",
      "metadata": {
        "colab": {
          "base_uri": "https://localhost:8080/"
        },
        "id": "jlw-ba4qGWmO",
        "outputId": "ff349fc3-2bcf-4453-c623-aa66d5b224be"
      },
      "source": [
        "from pennylane import *\r\n",
        "import torch\r\n",
        "from torch.autograd import Variable\r\n",
        "import numpy as np\r\n",
        "np.random.seed(42)\r\n",
        "\r\n",
        "data1 = [(0., 0.), (0.1, 0.1), (0.2, 0.2)]\r\n",
        "print(data1)"
      ],
      "execution_count": 28,
      "outputs": [
        {
          "output_type": "stream",
          "text": [
            "[(0.0, 0.0), (0.1, 0.1), (0.2, 0.2)]\n"
          ],
          "name": "stdout"
        }
      ]
    },
    {
      "cell_type": "code",
      "metadata": {
        "id": "WXfg_NqhGW0E"
      },
      "source": [
        "# 'default.qubit': um simulador de estado simples de arquiteturas de circuitos quânticos baseadas em qubit.\r\n",
        "# com 2 qubit\r\n",
        "dev = device('default.qubit', wires=2)\r\n",
        "\r\n",
        "@qnode(dev, interface='torch')\r\n",
        "def circuit_model(phi, x=None):\r\n",
        "\r\n",
        "    templates.AngleEmbedding(features=[x], wires=[0])\r\n",
        "    templates.BasicEntanglerLayers(weights=phi, wires=[0, 1])\r\n",
        "    return expval(PauliZ(wires=1)) # Valor de expectativa do observável fornecido.\r\n",
        "    # o circuito a seguir retorna o valor esperado do operador Pauli Z observável no fio 1\r\n"
      ],
      "execution_count": 29,
      "outputs": []
    },
    {
      "cell_type": "code",
      "metadata": {
        "colab": {
          "base_uri": "https://localhost:8080/"
        },
        "id": "J71Nx6hlNTsf",
        "outputId": "a3086345-00ad-4a62-f15d-28aedade7d11"
      },
      "source": [
        "# Função de custo (a-b)^2 Perda de erro quadrático\r\n",
        "def loss(a, b):\r\n",
        "    return torch.abs(a - b)**2\r\n",
        "\r\n",
        "# Perda média\r\n",
        "def average_loss(phi):\r\n",
        "    c = 0\r\n",
        "    for x, y in data:\r\n",
        "        c += loss(circuit_model(phi, x=x),  y) # Função de perda de erro quadrático\r\n",
        "    return c\r\n",
        "\r\n",
        "phi_new = Variable(torch.tensor([[0.1, 0.2], [-0.5, 0.1]]), requires_grad=True)\r\n",
        "print(phi_new)\r\n",
        "opt = torch.optim.Adam([phi_new], lr=0.02)\r\n",
        "print(opt)"
      ],
      "execution_count": 30,
      "outputs": [
        {
          "output_type": "stream",
          "text": [
            "tensor([[ 0.1000,  0.2000],\n",
            "        [-0.5000,  0.1000]], requires_grad=True)\n",
            "Adam (\n",
            "Parameter Group 0\n",
            "    amsgrad: False\n",
            "    betas: (0.9, 0.999)\n",
            "    eps: 1e-08\n",
            "    lr: 0.02\n",
            "    weight_decay: 0\n",
            ")\n"
          ],
          "name": "stdout"
        }
      ]
    },
    {
      "cell_type": "code",
      "metadata": {
        "colab": {
          "base_uri": "https://localhost:8080/"
        },
        "id": "SB7t09wyN05L",
        "outputId": "72b5d282-a101-459f-f602-83f1f17ea96c"
      },
      "source": [
        "for i in range(10):\r\n",
        "  loss1 = average_loss(phi_new)\r\n",
        "  print(i, loss1.item())\r\n",
        "  loss1.backward()\r\n",
        "  opt.step()"
      ],
      "execution_count": 31,
      "outputs": [
        {
          "output_type": "stream",
          "text": [
            "0 1.65564449517298\n",
            "1 1.567177708193579\n",
            "2 1.4789048264364286\n",
            "3 1.3891743567633288\n",
            "4 1.2978172022632155\n",
            "5 1.2051195848780754\n",
            "6 1.1115742469587113\n",
            "7 1.0177922191821251\n",
            "8 0.9244605097013131\n",
            "9 0.8323157438655978\n"
          ],
          "name": "stdout"
        }
      ]
    }
  ]
}