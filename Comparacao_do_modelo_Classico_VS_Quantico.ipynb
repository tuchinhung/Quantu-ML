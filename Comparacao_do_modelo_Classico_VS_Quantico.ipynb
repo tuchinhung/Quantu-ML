{
  "nbformat": 4,
  "nbformat_minor": 0,
  "metadata": {
    "colab": {
      "name": "Comparacao do modelo Classico VS Quantico.ipynb",
      "provenance": [],
      "collapsed_sections": [],
      "authorship_tag": "ABX9TyPzJo/sBij0NxSZFMuIc0w9",
      "include_colab_link": true
    },
    "kernelspec": {
      "name": "python3",
      "display_name": "Python 3"
    }
  },
  "cells": [
    {
      "cell_type": "markdown",
      "metadata": {
        "id": "view-in-github",
        "colab_type": "text"
      },
      "source": [
        "<a href=\"https://colab.research.google.com/github/tuchinhung/Quantu-ML/blob/main/Comparacao_do_modelo_Classico_VS_Quantico.ipynb\" target=\"_parent\"><img src=\"https://colab.research.google.com/assets/colab-badge.svg\" alt=\"Open In Colab\"/></a>"
      ]
    },
    {
      "cell_type": "code",
      "metadata": {
        "id": "8CEChRLwGHTm"
      },
      "source": [
        "%%capture \r\n",
        "\r\n",
        "# Comment this out if you don't want to install pennylane from this notebook\r\n",
        "!pip install pennylane\r\n",
        "# Comment this out if you don't want to install torch from this notebook\r\n",
        "!pip install torch\r\n",
        "# Comment this out if you don't want to install matplotlib from this notebook\r\n",
        "!pip install matplotlib"
      ],
      "execution_count": 1,
      "outputs": []
    },
    {
      "cell_type": "markdown",
      "metadata": {
        "id": "u9n5CKJyGXxV"
      },
      "source": [
        "Modelo Classico regressao linear"
      ]
    },
    {
      "cell_type": "code",
      "metadata": {
        "colab": {
          "base_uri": "https://localhost:8080/"
        },
        "id": "TU7F6MLsGWGL",
        "outputId": "fcbf1edb-46da-44c8-fd55-bcbc6b647900"
      },
      "source": [
        "import torch\r\n",
        "from torch.autograd import Variable\r\n",
        "\r\n",
        "data = torch.tensor([(0., 0.), (0.1, 0.1), (0.2, 0.2)])\r\n",
        "print(data)"
      ],
      "execution_count": 2,
      "outputs": [
        {
          "output_type": "stream",
          "text": [
            "tensor([[0.0000, 0.0000],\n",
            "        [0.1000, 0.1000],\n",
            "        [0.2000, 0.2000]])\n"
          ],
          "name": "stdout"
        }
      ]
    },
    {
      "cell_type": "code",
      "metadata": {
        "id": "TtfaWfiaHUDs"
      },
      "source": [
        "def model(phi, x=None):\r\n",
        "  return x*phi"
      ],
      "execution_count": 3,
      "outputs": []
    },
    {
      "cell_type": "code",
      "metadata": {
        "colab": {
          "base_uri": "https://localhost:8080/"
        },
        "id": "QhkLwHbXKWHh",
        "outputId": "89500b6e-46da-4c12-95ed-66d956adc43e"
      },
      "source": [
        "# Função de custo (a-b)^2 Perda de erro quadrático\r\n",
        "def loss(a, b):\r\n",
        "    return torch.abs(a - b)**2\r\n",
        "\r\n",
        "# Perda média\r\n",
        "def average_loss(phi):\r\n",
        "    c = 0\r\n",
        "    for x, y in data:\r\n",
        "        c += loss(model(phi, x=x),  y) # Função de perda de erro quadrático\r\n",
        "    return c\r\n",
        "\r\n",
        "phi_new = Variable(torch.tensor(0.1), requires_grad=True)\r\n",
        "print(phi_new)\r\n",
        "opt = torch.optim.Adam([phi_new], lr=0.02)\r\n",
        "print(opt)"
      ],
      "execution_count": 5,
      "outputs": [
        {
          "output_type": "stream",
          "text": [
            "tensor(0.1000, requires_grad=True)\n",
            "Adam (\n",
            "Parameter Group 0\n",
            "    amsgrad: False\n",
            "    betas: (0.9, 0.999)\n",
            "    eps: 1e-08\n",
            "    lr: 0.02\n",
            "    weight_decay: 0\n",
            ")\n"
          ],
          "name": "stdout"
        }
      ]
    },
    {
      "cell_type": "code",
      "metadata": {
        "colab": {
          "base_uri": "https://localhost:8080/"
        },
        "id": "q_hGygXhLZK9",
        "outputId": "c71b6d1b-477f-49c2-d816-ef1b4b95707d"
      },
      "source": [
        "for i in range(5):\r\n",
        "  l = average_loss(phi_new)\r\n",
        "  print(l)\r\n",
        "  l.backward()\r\n",
        "  opt.step()"
      ],
      "execution_count": 9,
      "outputs": [
        {
          "output_type": "stream",
          "text": [
            "tensor(0.0247, grad_fn=<AddBackward0>)\n",
            "tensor(0.0232, grad_fn=<AddBackward0>)\n",
            "tensor(0.0218, grad_fn=<AddBackward0>)\n",
            "tensor(0.0205, grad_fn=<AddBackward0>)\n",
            "tensor(0.0191, grad_fn=<AddBackward0>)\n"
          ],
          "name": "stdout"
        }
      ]
    },
    {
      "cell_type": "markdown",
      "metadata": {
        "id": "aTu8S09bGgy_"
      },
      "source": [
        "Modelo Quantico Circuito"
      ]
    },
    {
      "cell_type": "code",
      "metadata": {
        "colab": {
          "base_uri": "https://localhost:8080/"
        },
        "id": "jlw-ba4qGWmO",
        "outputId": "b8b50004-708f-45bd-a785-f0a4f80086ed"
      },
      "source": [
        "from pennylane import *\r\n",
        "import torch\r\n",
        "from torch.autograd import Variable\r\n",
        "\r\n",
        "data1 = [(0., 0.), (0.1, 0.1), (0.2, 0.2)]\r\n",
        "print(data1)"
      ],
      "execution_count": 10,
      "outputs": [
        {
          "output_type": "stream",
          "text": [
            "[(0.0, 0.0), (0.1, 0.1), (0.2, 0.2)]\n"
          ],
          "name": "stdout"
        }
      ]
    },
    {
      "cell_type": "code",
      "metadata": {
        "id": "WXfg_NqhGW0E"
      },
      "source": [
        "# 'default.qubit': um simulador de estado simples de arquiteturas de circuitos quânticos baseadas em qubit.\r\n",
        "# com 2 qubit\r\n",
        "dev = device('default.qubit', wires=2)\r\n",
        "\r\n",
        "@qnode(dev, interface='torch')\r\n",
        "def circuit_model(phi, x=None):\r\n",
        "\r\n",
        "    templates.AngleEmbedding(features=[x], wires=[0])\r\n",
        "    templates.BasicEntanglerLayers(weights=phi, wires=[0, 1])\r\n",
        "    return expval(PauliZ(wires=1)) # Valor de expectativa do observável fornecido.\r\n",
        "    # o circuito a seguir retorna o valor esperado do operador Pauli Z observável no fio 1\r\n"
      ],
      "execution_count": 11,
      "outputs": []
    },
    {
      "cell_type": "code",
      "metadata": {
        "colab": {
          "base_uri": "https://localhost:8080/"
        },
        "id": "J71Nx6hlNTsf",
        "outputId": "eed042e6-0a53-48a4-b0fa-bfdd35f8a521"
      },
      "source": [
        "# Função de custo (a-b)^2 Perda de erro quadrático\r\n",
        "def loss(a, b):\r\n",
        "    return torch.abs(a - b)**2\r\n",
        "\r\n",
        "# Perda média\r\n",
        "def average_loss(phi):\r\n",
        "    c = 0\r\n",
        "    for x, y in data:\r\n",
        "        c += loss(circuit_model(phi, x=x),  y) # Função de perda de erro quadrático\r\n",
        "    return c\r\n",
        "\r\n",
        "phi_new = Variable(torch.tensor([[0.1, 0.2], [-0.5, 0.1]]), requires_grad=True)\r\n",
        "print(phi_new)\r\n",
        "opt = torch.optim.Adam([phi_new], lr=0.02)\r\n",
        "print(opt)"
      ],
      "execution_count": 12,
      "outputs": [
        {
          "output_type": "stream",
          "text": [
            "tensor([[ 0.1000,  0.2000],\n",
            "        [-0.5000,  0.1000]], requires_grad=True)\n",
            "Adam (\n",
            "Parameter Group 0\n",
            "    amsgrad: False\n",
            "    betas: (0.9, 0.999)\n",
            "    eps: 1e-08\n",
            "    lr: 0.02\n",
            "    weight_decay: 0\n",
            ")\n"
          ],
          "name": "stdout"
        }
      ]
    },
    {
      "cell_type": "code",
      "metadata": {
        "colab": {
          "base_uri": "https://localhost:8080/"
        },
        "id": "SB7t09wyN05L",
        "outputId": "f0adae7e-2c9f-4c90-b9ab-fa1485894915"
      },
      "source": [
        "for i in range(5):\r\n",
        "  l = average_loss(phi_new)\r\n",
        "  print(l)\r\n",
        "  l.backward()\r\n",
        "  opt.step()"
      ],
      "execution_count": 13,
      "outputs": [
        {
          "output_type": "stream",
          "text": [
            "tensor(1.6556, dtype=torch.float64, grad_fn=<AddBackward0>)\n",
            "tensor(1.5672, dtype=torch.float64, grad_fn=<AddBackward0>)\n",
            "tensor(1.4789, dtype=torch.float64, grad_fn=<AddBackward0>)\n",
            "tensor(1.3892, dtype=torch.float64, grad_fn=<AddBackward0>)\n",
            "tensor(1.2978, dtype=torch.float64, grad_fn=<AddBackward0>)\n"
          ],
          "name": "stdout"
        }
      ]
    }
  ]
}